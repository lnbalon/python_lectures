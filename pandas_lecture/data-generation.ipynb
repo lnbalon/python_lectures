{
 "cells": [
  {
   "cell_type": "code",
   "execution_count": 1,
   "metadata": {},
   "outputs": [],
   "source": [
    "import pandas as pd"
   ]
  },
  {
   "cell_type": "code",
   "execution_count": 2,
   "metadata": {},
   "outputs": [],
   "source": [
    "import random\n",
    "import datetime"
   ]
  },
  {
   "cell_type": "markdown",
   "metadata": {},
   "source": [
    "#### Generate Sales Data"
   ]
  },
  {
   "cell_type": "code",
   "execution_count": 3,
   "metadata": {},
   "outputs": [],
   "source": [
    "df1 = pd.DataFrame()"
   ]
  },
  {
   "cell_type": "code",
   "execution_count": 4,
   "metadata": {},
   "outputs": [],
   "source": [
    "df1['Date'] = pd.date_range(start='2020-01-01', end='2020-09-30')"
   ]
  },
  {
   "cell_type": "code",
   "execution_count": 5,
   "metadata": {},
   "outputs": [
    {
     "data": {
      "text/plain": [
       "(274, 1)"
      ]
     },
     "execution_count": 5,
     "metadata": {},
     "output_type": "execute_result"
    }
   ],
   "source": [
    "df1.shape"
   ]
  },
  {
   "cell_type": "code",
   "execution_count": 6,
   "metadata": {},
   "outputs": [],
   "source": [
    "df1['Store_1_Sales'] = [random.randrange(10000, 25000) for x in range(274)]\n",
    "df1['Store_2_Sales'] = [random.randrange(6000, 35000) for x in range(274)]\n",
    "df1['Store_3_Sales'] = [random.randrange(8000, 44000) for x in range(274)]\n",
    "df1['Store_4_Sales'] = [random.randrange(2000, 7000) for x in range(274)]\n",
    "df1['Store_5_Sales'] = [random.randrange(4000, 25000) for x in range(274)]\n",
    "df1['Store_6_Sales'] = [random.randrange(6000, 18000) for x in range(274)]\n",
    "df1['Store_7_Sales'] = [random.randrange(5000, 76000) for x in range(274)]\n",
    "df1['Store_8_Sales'] = [random.randrange(400, 29000) for x in range(274)]\n",
    "df1['Store_9_Sales'] = [random.randrange(5000, 45700) for x in range(274)]\n",
    "df1['Store_10_Sales'] = [random.randrange(500, 42000) for x in range(274)]"
   ]
  },
  {
   "cell_type": "markdown",
   "metadata": {},
   "source": [
    "#### Generate Store Data"
   ]
  },
  {
   "cell_type": "code",
   "execution_count": 7,
   "metadata": {},
   "outputs": [],
   "source": [
    "locations = ['Marikina', 'Makati', 'Marikina', 'Muntinlupa', 'Pasig',\n",
    "             'Pasay', 'Pasig', 'Taguig', 'Quezon City', 'Makati']"
   ]
  },
  {
   "cell_type": "code",
   "execution_count": 8,
   "metadata": {},
   "outputs": [],
   "source": [
    "df2 = pd.DataFrame()\n",
    "df2['Store_Name'] = [f'Store_{x}' for x in range(1,11)]\n",
    "df2['Store_Location'] = locations\n",
    "df2['Number_of_Employees_per_Shift'] = [3, 5, 6, 3, 4, 5, 4, 7, 4, 4]\n",
    "df2['Rent_Monthly'] = [1e5, 1.5e5, 0.7e5, 1.1e5, 2.1e5, 1.0e5, 9.7e4, 1.2e5, 1.15e5, 9.2e4]\n",
    "df2['Utilities'] = [x * random.randrange(5,25)/100 for x in df2['Rent_Monthly']]"
   ]
  },
  {
   "cell_type": "code",
   "execution_count": 9,
   "metadata": {},
   "outputs": [
    {
     "data": {
      "text/html": [
       "<div>\n",
       "<style scoped>\n",
       "    .dataframe tbody tr th:only-of-type {\n",
       "        vertical-align: middle;\n",
       "    }\n",
       "\n",
       "    .dataframe tbody tr th {\n",
       "        vertical-align: top;\n",
       "    }\n",
       "\n",
       "    .dataframe thead th {\n",
       "        text-align: right;\n",
       "    }\n",
       "</style>\n",
       "<table border=\"1\" class=\"dataframe\">\n",
       "  <thead>\n",
       "    <tr style=\"text-align: right;\">\n",
       "      <th></th>\n",
       "      <th>Store_Name</th>\n",
       "      <th>Store_Location</th>\n",
       "      <th>Number_of_Employees_per_Shift</th>\n",
       "      <th>Rent_Monthly</th>\n",
       "      <th>Utilities</th>\n",
       "    </tr>\n",
       "  </thead>\n",
       "  <tbody>\n",
       "    <tr>\n",
       "      <th>0</th>\n",
       "      <td>Store_1</td>\n",
       "      <td>Marikina</td>\n",
       "      <td>3</td>\n",
       "      <td>100000.0</td>\n",
       "      <td>22000.0</td>\n",
       "    </tr>\n",
       "    <tr>\n",
       "      <th>1</th>\n",
       "      <td>Store_2</td>\n",
       "      <td>Makati</td>\n",
       "      <td>5</td>\n",
       "      <td>150000.0</td>\n",
       "      <td>24000.0</td>\n",
       "    </tr>\n",
       "    <tr>\n",
       "      <th>2</th>\n",
       "      <td>Store_3</td>\n",
       "      <td>Marikina</td>\n",
       "      <td>6</td>\n",
       "      <td>70000.0</td>\n",
       "      <td>4900.0</td>\n",
       "    </tr>\n",
       "    <tr>\n",
       "      <th>3</th>\n",
       "      <td>Store_4</td>\n",
       "      <td>Muntinlupa</td>\n",
       "      <td>3</td>\n",
       "      <td>110000.0</td>\n",
       "      <td>6600.0</td>\n",
       "    </tr>\n",
       "    <tr>\n",
       "      <th>4</th>\n",
       "      <td>Store_5</td>\n",
       "      <td>Pasig</td>\n",
       "      <td>4</td>\n",
       "      <td>210000.0</td>\n",
       "      <td>44100.0</td>\n",
       "    </tr>\n",
       "    <tr>\n",
       "      <th>5</th>\n",
       "      <td>Store_6</td>\n",
       "      <td>Pasay</td>\n",
       "      <td>5</td>\n",
       "      <td>100000.0</td>\n",
       "      <td>23000.0</td>\n",
       "    </tr>\n",
       "    <tr>\n",
       "      <th>6</th>\n",
       "      <td>Store_7</td>\n",
       "      <td>Pasig</td>\n",
       "      <td>4</td>\n",
       "      <td>97000.0</td>\n",
       "      <td>20370.0</td>\n",
       "    </tr>\n",
       "    <tr>\n",
       "      <th>7</th>\n",
       "      <td>Store_8</td>\n",
       "      <td>Taguig</td>\n",
       "      <td>7</td>\n",
       "      <td>120000.0</td>\n",
       "      <td>7200.0</td>\n",
       "    </tr>\n",
       "    <tr>\n",
       "      <th>8</th>\n",
       "      <td>Store_9</td>\n",
       "      <td>Quezon City</td>\n",
       "      <td>4</td>\n",
       "      <td>115000.0</td>\n",
       "      <td>6900.0</td>\n",
       "    </tr>\n",
       "    <tr>\n",
       "      <th>9</th>\n",
       "      <td>Store_10</td>\n",
       "      <td>Makati</td>\n",
       "      <td>4</td>\n",
       "      <td>92000.0</td>\n",
       "      <td>9200.0</td>\n",
       "    </tr>\n",
       "  </tbody>\n",
       "</table>\n",
       "</div>"
      ],
      "text/plain": [
       "  Store_Name Store_Location  Number_of_Employees_per_Shift  Rent_Monthly  \\\n",
       "0    Store_1       Marikina                              3      100000.0   \n",
       "1    Store_2         Makati                              5      150000.0   \n",
       "2    Store_3       Marikina                              6       70000.0   \n",
       "3    Store_4     Muntinlupa                              3      110000.0   \n",
       "4    Store_5          Pasig                              4      210000.0   \n",
       "5    Store_6          Pasay                              5      100000.0   \n",
       "6    Store_7          Pasig                              4       97000.0   \n",
       "7    Store_8         Taguig                              7      120000.0   \n",
       "8    Store_9    Quezon City                              4      115000.0   \n",
       "9   Store_10         Makati                              4       92000.0   \n",
       "\n",
       "   Utilities  \n",
       "0    22000.0  \n",
       "1    24000.0  \n",
       "2     4900.0  \n",
       "3     6600.0  \n",
       "4    44100.0  \n",
       "5    23000.0  \n",
       "6    20370.0  \n",
       "7     7200.0  \n",
       "8     6900.0  \n",
       "9     9200.0  "
      ]
     },
     "execution_count": 9,
     "metadata": {},
     "output_type": "execute_result"
    }
   ],
   "source": [
    "df2.head(10)"
   ]
  },
  {
   "cell_type": "markdown",
   "metadata": {},
   "source": [
    "#### Generate Tax Data"
   ]
  },
  {
   "cell_type": "code",
   "execution_count": 10,
   "metadata": {},
   "outputs": [],
   "source": [
    "df3 = pd.DataFrame()\n",
    "df3['City'] = ['Marikina', 'Makati', 'Muntinlupa', 'Pasig', 'Taguig', 'Quezon City', 'Caloocan', 'Pasay']\n",
    "df3['Local_Tax_Rate'] = [0.05, 0.13, 0.03, 0.1, 0.08, 0.09, 0.04, 0.03]"
   ]
  },
  {
   "cell_type": "code",
   "execution_count": 11,
   "metadata": {},
   "outputs": [
    {
     "data": {
      "text/html": [
       "<div>\n",
       "<style scoped>\n",
       "    .dataframe tbody tr th:only-of-type {\n",
       "        vertical-align: middle;\n",
       "    }\n",
       "\n",
       "    .dataframe tbody tr th {\n",
       "        vertical-align: top;\n",
       "    }\n",
       "\n",
       "    .dataframe thead th {\n",
       "        text-align: right;\n",
       "    }\n",
       "</style>\n",
       "<table border=\"1\" class=\"dataframe\">\n",
       "  <thead>\n",
       "    <tr style=\"text-align: right;\">\n",
       "      <th></th>\n",
       "      <th>City</th>\n",
       "      <th>Local_Tax_Rate</th>\n",
       "    </tr>\n",
       "  </thead>\n",
       "  <tbody>\n",
       "    <tr>\n",
       "      <th>0</th>\n",
       "      <td>Marikina</td>\n",
       "      <td>0.05</td>\n",
       "    </tr>\n",
       "    <tr>\n",
       "      <th>1</th>\n",
       "      <td>Makati</td>\n",
       "      <td>0.13</td>\n",
       "    </tr>\n",
       "    <tr>\n",
       "      <th>2</th>\n",
       "      <td>Muntinlupa</td>\n",
       "      <td>0.03</td>\n",
       "    </tr>\n",
       "    <tr>\n",
       "      <th>3</th>\n",
       "      <td>Pasig</td>\n",
       "      <td>0.10</td>\n",
       "    </tr>\n",
       "    <tr>\n",
       "      <th>4</th>\n",
       "      <td>Taguig</td>\n",
       "      <td>0.08</td>\n",
       "    </tr>\n",
       "    <tr>\n",
       "      <th>5</th>\n",
       "      <td>Quezon City</td>\n",
       "      <td>0.09</td>\n",
       "    </tr>\n",
       "    <tr>\n",
       "      <th>6</th>\n",
       "      <td>Caloocan</td>\n",
       "      <td>0.04</td>\n",
       "    </tr>\n",
       "    <tr>\n",
       "      <th>7</th>\n",
       "      <td>Pasay</td>\n",
       "      <td>0.03</td>\n",
       "    </tr>\n",
       "  </tbody>\n",
       "</table>\n",
       "</div>"
      ],
      "text/plain": [
       "          City  Local_Tax_Rate\n",
       "0     Marikina            0.05\n",
       "1       Makati            0.13\n",
       "2   Muntinlupa            0.03\n",
       "3        Pasig            0.10\n",
       "4       Taguig            0.08\n",
       "5  Quezon City            0.09\n",
       "6     Caloocan            0.04\n",
       "7        Pasay            0.03"
      ]
     },
     "execution_count": 11,
     "metadata": {},
     "output_type": "execute_result"
    }
   ],
   "source": [
    "df3"
   ]
  },
  {
   "cell_type": "markdown",
   "metadata": {},
   "source": [
    "#### Generate Labor Cost Data"
   ]
  },
  {
   "cell_type": "code",
   "execution_count": 12,
   "metadata": {},
   "outputs": [],
   "source": [
    "df4 = pd.DataFrame()\n",
    "df4['Day_of_Week'] = ['Monday', 'Tuesday', 'Wednesday', 'Thursday', 'Friday', 'Saturday', 'Sunday']\n",
    "df4['Cost_of_Labor'] = [550, 550, 550, 550, 600, 650, 700]"
   ]
  },
  {
   "cell_type": "code",
   "execution_count": 13,
   "metadata": {},
   "outputs": [
    {
     "data": {
      "text/html": [
       "<div>\n",
       "<style scoped>\n",
       "    .dataframe tbody tr th:only-of-type {\n",
       "        vertical-align: middle;\n",
       "    }\n",
       "\n",
       "    .dataframe tbody tr th {\n",
       "        vertical-align: top;\n",
       "    }\n",
       "\n",
       "    .dataframe thead th {\n",
       "        text-align: right;\n",
       "    }\n",
       "</style>\n",
       "<table border=\"1\" class=\"dataframe\">\n",
       "  <thead>\n",
       "    <tr style=\"text-align: right;\">\n",
       "      <th></th>\n",
       "      <th>Day_of_Week</th>\n",
       "      <th>Cost_of_Labor</th>\n",
       "    </tr>\n",
       "  </thead>\n",
       "  <tbody>\n",
       "    <tr>\n",
       "      <th>0</th>\n",
       "      <td>Monday</td>\n",
       "      <td>550</td>\n",
       "    </tr>\n",
       "    <tr>\n",
       "      <th>1</th>\n",
       "      <td>Tuesday</td>\n",
       "      <td>550</td>\n",
       "    </tr>\n",
       "    <tr>\n",
       "      <th>2</th>\n",
       "      <td>Wednesday</td>\n",
       "      <td>550</td>\n",
       "    </tr>\n",
       "    <tr>\n",
       "      <th>3</th>\n",
       "      <td>Thursday</td>\n",
       "      <td>550</td>\n",
       "    </tr>\n",
       "    <tr>\n",
       "      <th>4</th>\n",
       "      <td>Friday</td>\n",
       "      <td>600</td>\n",
       "    </tr>\n",
       "    <tr>\n",
       "      <th>5</th>\n",
       "      <td>Saturday</td>\n",
       "      <td>650</td>\n",
       "    </tr>\n",
       "    <tr>\n",
       "      <th>6</th>\n",
       "      <td>Sunday</td>\n",
       "      <td>700</td>\n",
       "    </tr>\n",
       "  </tbody>\n",
       "</table>\n",
       "</div>"
      ],
      "text/plain": [
       "  Day_of_Week  Cost_of_Labor\n",
       "0      Monday            550\n",
       "1     Tuesday            550\n",
       "2   Wednesday            550\n",
       "3    Thursday            550\n",
       "4      Friday            600\n",
       "5    Saturday            650\n",
       "6      Sunday            700"
      ]
     },
     "execution_count": 13,
     "metadata": {},
     "output_type": "execute_result"
    }
   ],
   "source": [
    "df4"
   ]
  },
  {
   "cell_type": "markdown",
   "metadata": {},
   "source": [
    "#### Generate Shift Data"
   ]
  },
  {
   "cell_type": "code",
   "execution_count": 14,
   "metadata": {},
   "outputs": [],
   "source": [
    "df5 = pd.DataFrame()\n",
    "df5['Day_of_Week'] = ['Monday', 'Tuesday', 'Wednesday', 'Thursday', 'Friday', 'Saturday', 'Sunday']\n",
    "df5['Store_1_Shifts'] = [random.randrange(1, 3) for x in range(7)]\n",
    "df5['Store_2_Shifts'] = [random.randrange(1, 3) for x in range(7)]\n",
    "df5['Store_3_Shifts'] = [random.randrange(1, 3) for x in range(7)]\n",
    "df5['Store_4_Shifts'] = [random.randrange(1, 2) for x in range(7)]\n",
    "df5['Store_4_Shifts'] = [random.randrange(1, 2) for x in range(7)]\n",
    "df5['Store_5_Shifts'] = [random.randrange(1, 4) for x in range(7)]\n",
    "df5['Store_6_Shifts'] = [random.randrange(1, 4) for x in range(7)]\n",
    "df5['Store_7_Shifts'] = [random.randrange(1, 3) for x in range(7)]\n",
    "df5['Store_8_Shifts'] = [random.randrange(1, 2) for x in range(7)]\n",
    "df5['Store_9_Shifts'] = [1 for x in range(7)]\n",
    "df5['Store_10_Shifts'] = [random.randrange(1, 4) for x in range(7)]"
   ]
  },
  {
   "cell_type": "code",
   "execution_count": 15,
   "metadata": {},
   "outputs": [
    {
     "data": {
      "text/html": [
       "<div>\n",
       "<style scoped>\n",
       "    .dataframe tbody tr th:only-of-type {\n",
       "        vertical-align: middle;\n",
       "    }\n",
       "\n",
       "    .dataframe tbody tr th {\n",
       "        vertical-align: top;\n",
       "    }\n",
       "\n",
       "    .dataframe thead th {\n",
       "        text-align: right;\n",
       "    }\n",
       "</style>\n",
       "<table border=\"1\" class=\"dataframe\">\n",
       "  <thead>\n",
       "    <tr style=\"text-align: right;\">\n",
       "      <th></th>\n",
       "      <th>Day_of_Week</th>\n",
       "      <th>Store_1_Shifts</th>\n",
       "      <th>Store_2_Shifts</th>\n",
       "      <th>Store_3_Shifts</th>\n",
       "      <th>Store_4_Shifts</th>\n",
       "      <th>Store_5_Shifts</th>\n",
       "      <th>Store_6_Shifts</th>\n",
       "      <th>Store_7_Shifts</th>\n",
       "      <th>Store_8_Shifts</th>\n",
       "      <th>Store_9_Shifts</th>\n",
       "      <th>Store_10_Shifts</th>\n",
       "    </tr>\n",
       "  </thead>\n",
       "  <tbody>\n",
       "    <tr>\n",
       "      <th>0</th>\n",
       "      <td>Monday</td>\n",
       "      <td>2</td>\n",
       "      <td>2</td>\n",
       "      <td>1</td>\n",
       "      <td>1</td>\n",
       "      <td>3</td>\n",
       "      <td>2</td>\n",
       "      <td>1</td>\n",
       "      <td>1</td>\n",
       "      <td>1</td>\n",
       "      <td>2</td>\n",
       "    </tr>\n",
       "    <tr>\n",
       "      <th>1</th>\n",
       "      <td>Tuesday</td>\n",
       "      <td>1</td>\n",
       "      <td>1</td>\n",
       "      <td>2</td>\n",
       "      <td>1</td>\n",
       "      <td>1</td>\n",
       "      <td>1</td>\n",
       "      <td>2</td>\n",
       "      <td>1</td>\n",
       "      <td>1</td>\n",
       "      <td>3</td>\n",
       "    </tr>\n",
       "    <tr>\n",
       "      <th>2</th>\n",
       "      <td>Wednesday</td>\n",
       "      <td>2</td>\n",
       "      <td>2</td>\n",
       "      <td>2</td>\n",
       "      <td>1</td>\n",
       "      <td>3</td>\n",
       "      <td>1</td>\n",
       "      <td>2</td>\n",
       "      <td>1</td>\n",
       "      <td>1</td>\n",
       "      <td>1</td>\n",
       "    </tr>\n",
       "    <tr>\n",
       "      <th>3</th>\n",
       "      <td>Thursday</td>\n",
       "      <td>1</td>\n",
       "      <td>1</td>\n",
       "      <td>2</td>\n",
       "      <td>1</td>\n",
       "      <td>2</td>\n",
       "      <td>2</td>\n",
       "      <td>1</td>\n",
       "      <td>1</td>\n",
       "      <td>1</td>\n",
       "      <td>3</td>\n",
       "    </tr>\n",
       "    <tr>\n",
       "      <th>4</th>\n",
       "      <td>Friday</td>\n",
       "      <td>1</td>\n",
       "      <td>2</td>\n",
       "      <td>1</td>\n",
       "      <td>1</td>\n",
       "      <td>2</td>\n",
       "      <td>3</td>\n",
       "      <td>1</td>\n",
       "      <td>1</td>\n",
       "      <td>1</td>\n",
       "      <td>3</td>\n",
       "    </tr>\n",
       "    <tr>\n",
       "      <th>5</th>\n",
       "      <td>Saturday</td>\n",
       "      <td>2</td>\n",
       "      <td>1</td>\n",
       "      <td>2</td>\n",
       "      <td>1</td>\n",
       "      <td>1</td>\n",
       "      <td>2</td>\n",
       "      <td>1</td>\n",
       "      <td>1</td>\n",
       "      <td>1</td>\n",
       "      <td>2</td>\n",
       "    </tr>\n",
       "    <tr>\n",
       "      <th>6</th>\n",
       "      <td>Sunday</td>\n",
       "      <td>2</td>\n",
       "      <td>2</td>\n",
       "      <td>1</td>\n",
       "      <td>1</td>\n",
       "      <td>2</td>\n",
       "      <td>3</td>\n",
       "      <td>1</td>\n",
       "      <td>1</td>\n",
       "      <td>1</td>\n",
       "      <td>1</td>\n",
       "    </tr>\n",
       "  </tbody>\n",
       "</table>\n",
       "</div>"
      ],
      "text/plain": [
       "  Day_of_Week  Store_1_Shifts  Store_2_Shifts  Store_3_Shifts  Store_4_Shifts  \\\n",
       "0      Monday               2               2               1               1   \n",
       "1     Tuesday               1               1               2               1   \n",
       "2   Wednesday               2               2               2               1   \n",
       "3    Thursday               1               1               2               1   \n",
       "4      Friday               1               2               1               1   \n",
       "5    Saturday               2               1               2               1   \n",
       "6      Sunday               2               2               1               1   \n",
       "\n",
       "   Store_5_Shifts  Store_6_Shifts  Store_7_Shifts  Store_8_Shifts  \\\n",
       "0               3               2               1               1   \n",
       "1               1               1               2               1   \n",
       "2               3               1               2               1   \n",
       "3               2               2               1               1   \n",
       "4               2               3               1               1   \n",
       "5               1               2               1               1   \n",
       "6               2               3               1               1   \n",
       "\n",
       "   Store_9_Shifts  Store_10_Shifts  \n",
       "0               1                2  \n",
       "1               1                3  \n",
       "2               1                1  \n",
       "3               1                3  \n",
       "4               1                3  \n",
       "5               1                2  \n",
       "6               1                1  "
      ]
     },
     "execution_count": 15,
     "metadata": {},
     "output_type": "execute_result"
    }
   ],
   "source": [
    "df5"
   ]
  },
  {
   "cell_type": "markdown",
   "metadata": {},
   "source": [
    "#### Export Data"
   ]
  },
  {
   "cell_type": "code",
   "execution_count": 17,
   "metadata": {},
   "outputs": [],
   "source": [
    "df1.to_csv('store_sales.csv', index=False)"
   ]
  },
  {
   "cell_type": "code",
   "execution_count": 18,
   "metadata": {},
   "outputs": [],
   "source": [
    "df2.to_csv('store_location.csv', index=False)"
   ]
  },
  {
   "cell_type": "code",
   "execution_count": 19,
   "metadata": {},
   "outputs": [],
   "source": [
    "df3.to_csv('tax_rate.csv', index=False)"
   ]
  },
  {
   "cell_type": "code",
   "execution_count": 20,
   "metadata": {},
   "outputs": [],
   "source": [
    "df4.to_csv('labor_cost.csv', index=False)"
   ]
  },
  {
   "cell_type": "code",
   "execution_count": 21,
   "metadata": {},
   "outputs": [],
   "source": [
    "df5.to_csv('num_shifts.csv', index=False)"
   ]
  }
 ],
 "metadata": {
  "kernelspec": {
   "display_name": "Python 3",
   "language": "python",
   "name": "python3"
  },
  "language_info": {
   "codemirror_mode": {
    "name": "ipython",
    "version": 3
   },
   "file_extension": ".py",
   "mimetype": "text/x-python",
   "name": "python",
   "nbconvert_exporter": "python",
   "pygments_lexer": "ipython3",
   "version": "3.6.12"
  }
 },
 "nbformat": 4,
 "nbformat_minor": 4
}
